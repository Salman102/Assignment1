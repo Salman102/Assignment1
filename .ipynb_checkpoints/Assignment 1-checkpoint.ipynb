{
 "cells": [
  {
   "cell_type": "code",
   "execution_count": 3,
   "metadata": {},
   "outputs": [
    {
     "name": "stdout",
     "output_type": "stream",
     "text": [
      "Name: Muhammad Salman Arshed\n",
      "Class: BSc Mechnacial Engineering\n",
      "Age: 21\n",
      "University Name: Swedish College of Engineering and Technology\n"
     ]
    }
   ],
   "source": [
    "name = \"Name: Muhammad Salman Arshed\"\n",
    "print(name)\n",
    "\n",
    "Class = \"Class: BSc Mechnacial Engineering\"\n",
    "print(Class)\n",
    "\n",
    "age = \"Age: 21\"\n",
    "print(age)\n",
    "\n",
    "university_name = \"University Name: Swedish College of Engineering and Technology\"\n",
    "print(university_name)"
   ]
  }
 ],
 "metadata": {
  "kernelspec": {
   "display_name": "Python 3",
   "language": "python",
   "name": "python3"
  },
  "language_info": {
   "codemirror_mode": {
    "name": "ipython",
    "version": 3
   },
   "file_extension": ".py",
   "mimetype": "text/x-python",
   "name": "python",
   "nbconvert_exporter": "python",
   "pygments_lexer": "ipython3",
   "version": "3.7.4"
  }
 },
 "nbformat": 4,
 "nbformat_minor": 2
}
